{
 "cells": [
  {
   "cell_type": "code",
   "execution_count": 2,
   "id": "070324e9-2252-4aa0-b5a5-f755fac3cec2",
   "metadata": {
    "tags": []
   },
   "outputs": [
    {
     "data": {
      "text/html": [
       "<div>\n",
       "<style scoped>\n",
       "    .dataframe tbody tr th:only-of-type {\n",
       "        vertical-align: middle;\n",
       "    }\n",
       "\n",
       "    .dataframe tbody tr th {\n",
       "        vertical-align: top;\n",
       "    }\n",
       "\n",
       "    .dataframe thead th {\n",
       "        text-align: right;\n",
       "    }\n",
       "</style>\n",
       "<table border=\"1\" class=\"dataframe\">\n",
       "  <thead>\n",
       "    <tr style=\"text-align: right;\">\n",
       "      <th></th>\n",
       "      <th>Gender</th>\n",
       "      <th>Age</th>\n",
       "      <th>Occupation</th>\n",
       "      <th>Sleep Duration</th>\n",
       "      <th>Quality of Sleep</th>\n",
       "      <th>Physical Activity Level</th>\n",
       "      <th>Stress Level</th>\n",
       "      <th>BMI Category</th>\n",
       "      <th>Blood Pressure</th>\n",
       "      <th>Heart Rate</th>\n",
       "      <th>Daily Steps</th>\n",
       "      <th>Sleep Disorder</th>\n",
       "    </tr>\n",
       "    <tr>\n",
       "      <th>Person ID</th>\n",
       "      <th></th>\n",
       "      <th></th>\n",
       "      <th></th>\n",
       "      <th></th>\n",
       "      <th></th>\n",
       "      <th></th>\n",
       "      <th></th>\n",
       "      <th></th>\n",
       "      <th></th>\n",
       "      <th></th>\n",
       "      <th></th>\n",
       "      <th></th>\n",
       "    </tr>\n",
       "  </thead>\n",
       "  <tbody>\n",
       "    <tr>\n",
       "      <th>1</th>\n",
       "      <td>Male</td>\n",
       "      <td>27</td>\n",
       "      <td>Software Engineer</td>\n",
       "      <td>6.1</td>\n",
       "      <td>6</td>\n",
       "      <td>42</td>\n",
       "      <td>6</td>\n",
       "      <td>Overweight</td>\n",
       "      <td>126/83</td>\n",
       "      <td>77</td>\n",
       "      <td>4200</td>\n",
       "      <td>None</td>\n",
       "    </tr>\n",
       "    <tr>\n",
       "      <th>2</th>\n",
       "      <td>Male</td>\n",
       "      <td>28</td>\n",
       "      <td>Doctor</td>\n",
       "      <td>6.2</td>\n",
       "      <td>6</td>\n",
       "      <td>60</td>\n",
       "      <td>8</td>\n",
       "      <td>Normal</td>\n",
       "      <td>125/80</td>\n",
       "      <td>75</td>\n",
       "      <td>10000</td>\n",
       "      <td>None</td>\n",
       "    </tr>\n",
       "    <tr>\n",
       "      <th>3</th>\n",
       "      <td>Male</td>\n",
       "      <td>28</td>\n",
       "      <td>Doctor</td>\n",
       "      <td>6.2</td>\n",
       "      <td>6</td>\n",
       "      <td>60</td>\n",
       "      <td>8</td>\n",
       "      <td>Normal</td>\n",
       "      <td>125/80</td>\n",
       "      <td>75</td>\n",
       "      <td>10000</td>\n",
       "      <td>None</td>\n",
       "    </tr>\n",
       "    <tr>\n",
       "      <th>4</th>\n",
       "      <td>Male</td>\n",
       "      <td>28</td>\n",
       "      <td>Sales Representative</td>\n",
       "      <td>5.9</td>\n",
       "      <td>4</td>\n",
       "      <td>30</td>\n",
       "      <td>8</td>\n",
       "      <td>Obese</td>\n",
       "      <td>140/90</td>\n",
       "      <td>85</td>\n",
       "      <td>3000</td>\n",
       "      <td>Sleep Apnea</td>\n",
       "    </tr>\n",
       "    <tr>\n",
       "      <th>5</th>\n",
       "      <td>Male</td>\n",
       "      <td>28</td>\n",
       "      <td>Sales Representative</td>\n",
       "      <td>5.9</td>\n",
       "      <td>4</td>\n",
       "      <td>30</td>\n",
       "      <td>8</td>\n",
       "      <td>Obese</td>\n",
       "      <td>140/90</td>\n",
       "      <td>85</td>\n",
       "      <td>3000</td>\n",
       "      <td>Sleep Apnea</td>\n",
       "    </tr>\n",
       "  </tbody>\n",
       "</table>\n",
       "</div>"
      ],
      "text/plain": [
       "          Gender  Age            Occupation  Sleep Duration  Quality of Sleep  \\\n",
       "Person ID                                                                       \n",
       "1           Male   27     Software Engineer             6.1                 6   \n",
       "2           Male   28                Doctor             6.2                 6   \n",
       "3           Male   28                Doctor             6.2                 6   \n",
       "4           Male   28  Sales Representative             5.9                 4   \n",
       "5           Male   28  Sales Representative             5.9                 4   \n",
       "\n",
       "           Physical Activity Level  Stress Level BMI Category Blood Pressure  \\\n",
       "Person ID                                                                      \n",
       "1                               42             6   Overweight         126/83   \n",
       "2                               60             8       Normal         125/80   \n",
       "3                               60             8       Normal         125/80   \n",
       "4                               30             8        Obese         140/90   \n",
       "5                               30             8        Obese         140/90   \n",
       "\n",
       "           Heart Rate  Daily Steps Sleep Disorder  \n",
       "Person ID                                          \n",
       "1                  77         4200           None  \n",
       "2                  75        10000           None  \n",
       "3                  75        10000           None  \n",
       "4                  85         3000    Sleep Apnea  \n",
       "5                  85         3000    Sleep Apnea  "
      ]
     },
     "execution_count": 2,
     "metadata": {},
     "output_type": "execute_result"
    }
   ],
   "source": [
    "import pandas as pd\n",
    "data = pd.read_csv('data/sleep health.csv', index_col=\"Person ID\")\n",
    "data.head()"
   ]
  },
  {
   "cell_type": "code",
   "execution_count": 20,
   "id": "b7af4580-0603-4d26-b3b8-6c9b6ded5748",
   "metadata": {
    "tags": []
   },
   "outputs": [
    {
     "name": "stdout",
     "output_type": "stream",
     "text": [
      "There are: 189 men and 185 women.\n",
      "The oldest person has: 59 years old. Meanwhile the youngest has: 27 years old.\n",
      "The mean age for this data set is: 42 years.\n",
      "And ages variates 9 years more or lesser.\n"
     ]
    }
   ],
   "source": [
    "amountByGender = data['Gender'].value_counts()\n",
    "oldest = data['Age'].max()\n",
    "youngest = data['Age'].min()\n",
    "meanAge = data['Age'].mean()\n",
    "stdAge = data['Age'].std()\n",
    "\n",
    "print(f\"There are: {amountByGender['Male']} men and {amountByGender['Female']} women.\")\n",
    "print(f\"The oldest person has: {oldest} years old. Meanwhile the youngest has: {youngest} years old.\")\n",
    "print(f\"The mean age for this data set is: {round(meanAge)} years.\")\n",
    "print(f\"And ages variates {round(stdAge)} years more or lesser.\")"
   ]
  },
  {
   "cell_type": "code",
   "execution_count": 21,
   "id": "073799d0-b57b-440b-ac70-6e778f3c9076",
   "metadata": {
    "tags": []
   },
   "outputs": [],
   "source": [
    "data.loc[data['Age']<=40, 'Age_group'] = 'Adult'\n",
    "data.loc[data['Age']>=41, 'Age_group'] = 'Older Adult'"
   ]
  },
  {
   "cell_type": "code",
   "execution_count": 22,
   "id": "82348a32-cbc7-48b3-93bf-da882a5d7e7d",
   "metadata": {
    "tags": []
   },
   "outputs": [
    {
     "data": {
      "text/plain": [
       "Older Adult    209\n",
       "Adult          165\n",
       "Name: Age_group, dtype: int64"
      ]
     },
     "execution_count": 22,
     "metadata": {},
     "output_type": "execute_result"
    }
   ],
   "source": [
    "data['Age_group'].value_counts()"
   ]
  },
  {
   "cell_type": "code",
   "execution_count": 23,
   "id": "53e700db-649f-44fc-8cd5-e05fde8ba9b6",
   "metadata": {
    "tags": []
   },
   "outputs": [
    {
     "data": {
      "text/html": [
       "<div>\n",
       "<style scoped>\n",
       "    .dataframe tbody tr th:only-of-type {\n",
       "        vertical-align: middle;\n",
       "    }\n",
       "\n",
       "    .dataframe tbody tr th {\n",
       "        vertical-align: top;\n",
       "    }\n",
       "\n",
       "    .dataframe thead th {\n",
       "        text-align: right;\n",
       "    }\n",
       "</style>\n",
       "<table border=\"1\" class=\"dataframe\">\n",
       "  <thead>\n",
       "    <tr style=\"text-align: right;\">\n",
       "      <th></th>\n",
       "      <th>mean</th>\n",
       "      <th>std</th>\n",
       "    </tr>\n",
       "    <tr>\n",
       "      <th>Gender</th>\n",
       "      <th></th>\n",
       "      <th></th>\n",
       "    </tr>\n",
       "  </thead>\n",
       "  <tbody>\n",
       "    <tr>\n",
       "      <th>Female</th>\n",
       "      <td>47.405405</td>\n",
       "      <td>8.093407</td>\n",
       "    </tr>\n",
       "    <tr>\n",
       "      <th>Male</th>\n",
       "      <td>37.074074</td>\n",
       "      <td>5.662006</td>\n",
       "    </tr>\n",
       "  </tbody>\n",
       "</table>\n",
       "</div>"
      ],
      "text/plain": [
       "             mean       std\n",
       "Gender                     \n",
       "Female  47.405405  8.093407\n",
       "Male    37.074074  5.662006"
      ]
     },
     "execution_count": 23,
     "metadata": {},
     "output_type": "execute_result"
    }
   ],
   "source": [
    "data.groupby('Gender')['Age'].agg(['mean','std'])"
   ]
  },
  {
   "cell_type": "code",
   "execution_count": 24,
   "id": "985ddb1c-db30-4ced-b905-52dff99abddf",
   "metadata": {
    "tags": []
   },
   "outputs": [
    {
     "data": {
      "text/plain": [
       "Occupation            Gender\n",
       "Accountant            Female    36\n",
       "                      Male       1\n",
       "Doctor                Male      69\n",
       "                      Female     2\n",
       "Engineer              Female    32\n",
       "                      Male      31\n",
       "Lawyer                Male      45\n",
       "                      Female     2\n",
       "Manager               Female     1\n",
       "Nurse                 Female    73\n",
       "Sales Representative  Male       2\n",
       "Salesperson           Male      32\n",
       "Scientist             Female     4\n",
       "Software Engineer     Male       4\n",
       "Teacher               Female    35\n",
       "                      Male       5\n",
       "Name: Gender, dtype: int64"
      ]
     },
     "execution_count": 24,
     "metadata": {},
     "output_type": "execute_result"
    }
   ],
   "source": [
    "data.groupby(['Occupation'])['Gender'].value_counts()"
   ]
  },
  {
   "cell_type": "code",
   "execution_count": 25,
   "id": "c0d646c6-ea6e-4e05-a830-72e6cb58269b",
   "metadata": {
    "tags": []
   },
   "outputs": [
    {
     "name": "stdout",
     "output_type": "stream",
     "text": [
      "5.8\n",
      "8.5\n"
     ]
    }
   ],
   "source": [
    "print(data['Sleep Duration'].min())\n",
    "print(data['Sleep Duration'].max())"
   ]
  },
  {
   "cell_type": "code",
   "execution_count": 28,
   "id": "3083e8d6-60a0-4054-a688-86c5c0a8be23",
   "metadata": {
    "tags": []
   },
   "outputs": [
    {
     "data": {
      "text/plain": [
       "Gender\n",
       "Female    7.229730\n",
       "Male      7.036508\n",
       "Name: Sleep Duration, dtype: float64"
      ]
     },
     "execution_count": 28,
     "metadata": {},
     "output_type": "execute_result"
    }
   ],
   "source": [
    "data.groupby('Gender')['Sleep Duration'].mean()"
   ]
  },
  {
   "cell_type": "code",
   "execution_count": 29,
   "id": "ac30202f-33ad-4072-a01f-533c11b90c34",
   "metadata": {
    "tags": []
   },
   "outputs": [
    {
     "data": {
      "text/plain": [
       "Gender\n",
       "Female    7.229730\n",
       "Male      7.036508\n",
       "Name: Sleep Duration, dtype: float64"
      ]
     },
     "execution_count": 29,
     "metadata": {},
     "output_type": "execute_result"
    }
   ],
   "source": [
    "data.groupby('Gender')['Sleep Duration'].mean()"
   ]
  },
  {
   "cell_type": "code",
   "execution_count": 31,
   "id": "af675af2-64b3-43df-86de-b9695aa4c236",
   "metadata": {
    "tags": []
   },
   "outputs": [
    {
     "data": {
      "text/html": [
       "<div>\n",
       "<style scoped>\n",
       "    .dataframe tbody tr th:only-of-type {\n",
       "        vertical-align: middle;\n",
       "    }\n",
       "\n",
       "    .dataframe tbody tr th {\n",
       "        vertical-align: top;\n",
       "    }\n",
       "\n",
       "    .dataframe thead th {\n",
       "        text-align: right;\n",
       "    }\n",
       "</style>\n",
       "<table border=\"1\" class=\"dataframe\">\n",
       "  <thead>\n",
       "    <tr style=\"text-align: right;\">\n",
       "      <th></th>\n",
       "      <th>Quality of Sleep</th>\n",
       "      <th>Sleep Duration</th>\n",
       "    </tr>\n",
       "    <tr>\n",
       "      <th>Occupation</th>\n",
       "      <th></th>\n",
       "      <th></th>\n",
       "    </tr>\n",
       "  </thead>\n",
       "  <tbody>\n",
       "    <tr>\n",
       "      <th>Sales Representative</th>\n",
       "      <td>4.000000</td>\n",
       "      <td>5.900000</td>\n",
       "    </tr>\n",
       "    <tr>\n",
       "      <th>Scientist</th>\n",
       "      <td>5.000000</td>\n",
       "      <td>6.000000</td>\n",
       "    </tr>\n",
       "    <tr>\n",
       "      <th>Salesperson</th>\n",
       "      <td>6.000000</td>\n",
       "      <td>6.403125</td>\n",
       "    </tr>\n",
       "    <tr>\n",
       "      <th>Software Engineer</th>\n",
       "      <td>6.500000</td>\n",
       "      <td>6.750000</td>\n",
       "    </tr>\n",
       "    <tr>\n",
       "      <th>Doctor</th>\n",
       "      <td>6.647887</td>\n",
       "      <td>6.970423</td>\n",
       "    </tr>\n",
       "    <tr>\n",
       "      <th>Teacher</th>\n",
       "      <td>6.975000</td>\n",
       "      <td>6.690000</td>\n",
       "    </tr>\n",
       "    <tr>\n",
       "      <th>Manager</th>\n",
       "      <td>7.000000</td>\n",
       "      <td>6.900000</td>\n",
       "    </tr>\n",
       "    <tr>\n",
       "      <th>Nurse</th>\n",
       "      <td>7.369863</td>\n",
       "      <td>7.063014</td>\n",
       "    </tr>\n",
       "    <tr>\n",
       "      <th>Accountant</th>\n",
       "      <td>7.891892</td>\n",
       "      <td>7.113514</td>\n",
       "    </tr>\n",
       "    <tr>\n",
       "      <th>Lawyer</th>\n",
       "      <td>7.893617</td>\n",
       "      <td>7.410638</td>\n",
       "    </tr>\n",
       "    <tr>\n",
       "      <th>Engineer</th>\n",
       "      <td>8.412698</td>\n",
       "      <td>7.987302</td>\n",
       "    </tr>\n",
       "  </tbody>\n",
       "</table>\n",
       "</div>"
      ],
      "text/plain": [
       "                      Quality of Sleep  Sleep Duration\n",
       "Occupation                                            \n",
       "Sales Representative          4.000000        5.900000\n",
       "Scientist                     5.000000        6.000000\n",
       "Salesperson                   6.000000        6.403125\n",
       "Software Engineer             6.500000        6.750000\n",
       "Doctor                        6.647887        6.970423\n",
       "Teacher                       6.975000        6.690000\n",
       "Manager                       7.000000        6.900000\n",
       "Nurse                         7.369863        7.063014\n",
       "Accountant                    7.891892        7.113514\n",
       "Lawyer                        7.893617        7.410638\n",
       "Engineer                      8.412698        7.987302"
      ]
     },
     "execution_count": 31,
     "metadata": {},
     "output_type": "execute_result"
    }
   ],
   "source": [
    "occ_qua = data.groupby('Occupation')[['Quality of Sleep', 'Sleep Duration']].mean()\n",
    "occ_qua.sort_values(by='Quality of Sleep')"
   ]
  },
  {
   "cell_type": "code",
   "execution_count": 35,
   "id": "5bab42e7-6885-4dfe-8aa3-2b9d3478795e",
   "metadata": {
    "tags": []
   },
   "outputs": [
    {
     "data": {
      "text/plain": [
       "Occupation            BMI Category \n",
       "Lawyer                Normal Weight     1\n",
       "Software Engineer     Overweight        1\n",
       "                      Obese             1\n",
       "Manager               Overweight        1\n",
       "Teacher               Obese             1\n",
       "Doctor                Normal Weight     2\n",
       "Lawyer                Obese             2\n",
       "                      Overweight        2\n",
       "Software Engineer     Normal Weight     2\n",
       "Sales Representative  Obese             2\n",
       "Engineer              Overweight        3\n",
       "                      Normal Weight     4\n",
       "Doctor                Obese             4\n",
       "Scientist             Overweight        4\n",
       "Accountant            Normal Weight     5\n",
       "                      Overweight        6\n",
       "Teacher               Normal            6\n",
       "Nurse                 Normal Weight     7\n",
       "Accountant            Normal           26\n",
       "Salesperson           Overweight       32\n",
       "Teacher               Overweight       33\n",
       "Lawyer                Normal           42\n",
       "Engineer              Normal           56\n",
       "Doctor                Normal           65\n",
       "Nurse                 Overweight       66\n",
       "Name: BMI Category, dtype: int64"
      ]
     },
     "execution_count": 35,
     "metadata": {},
     "output_type": "execute_result"
    }
   ],
   "source": [
    "occ_bmi = data.groupby('Occupation')['BMI Category'].value_counts()\n",
    "occ_bmi.sort_values()"
   ]
  },
  {
   "cell_type": "code",
   "execution_count": 37,
   "id": "ed9a679f-9de9-40fb-bff2-bf4dc2f68815",
   "metadata": {
    "tags": []
   },
   "outputs": [
    {
     "name": "stderr",
     "output_type": "stream",
     "text": [
      "C:\\Users\\doutr\\AppData\\Local\\Temp\\ipykernel_11132\\237343472.py:1: FutureWarning: Indexing with multiple keys (implicitly converted to a tuple of keys) will be deprecated, use a list instead.\n",
      "  occ_steps = data.groupby(['Occupation'])['Daily Steps', 'Physical Activity Level', 'Sleep Duration', 'Quality of Sleep'].mean()\n"
     ]
    },
    {
     "data": {
      "text/html": [
       "<div>\n",
       "<style scoped>\n",
       "    .dataframe tbody tr th:only-of-type {\n",
       "        vertical-align: middle;\n",
       "    }\n",
       "\n",
       "    .dataframe tbody tr th {\n",
       "        vertical-align: top;\n",
       "    }\n",
       "\n",
       "    .dataframe thead th {\n",
       "        text-align: right;\n",
       "    }\n",
       "</style>\n",
       "<table border=\"1\" class=\"dataframe\">\n",
       "  <thead>\n",
       "    <tr style=\"text-align: right;\">\n",
       "      <th></th>\n",
       "      <th>Daily Steps</th>\n",
       "      <th>Physical Activity Level</th>\n",
       "      <th>Sleep Duration</th>\n",
       "      <th>Quality of Sleep</th>\n",
       "    </tr>\n",
       "    <tr>\n",
       "      <th>Occupation</th>\n",
       "      <th></th>\n",
       "      <th></th>\n",
       "      <th></th>\n",
       "      <th></th>\n",
       "    </tr>\n",
       "  </thead>\n",
       "  <tbody>\n",
       "    <tr>\n",
       "      <th>Sales Representative</th>\n",
       "      <td>3000.000000</td>\n",
       "      <td>30.000000</td>\n",
       "      <td>5.900000</td>\n",
       "      <td>4.000000</td>\n",
       "    </tr>\n",
       "    <tr>\n",
       "      <th>Scientist</th>\n",
       "      <td>5350.000000</td>\n",
       "      <td>41.000000</td>\n",
       "      <td>6.000000</td>\n",
       "      <td>5.000000</td>\n",
       "    </tr>\n",
       "    <tr>\n",
       "      <th>Manager</th>\n",
       "      <td>5500.000000</td>\n",
       "      <td>55.000000</td>\n",
       "      <td>6.900000</td>\n",
       "      <td>7.000000</td>\n",
       "    </tr>\n",
       "    <tr>\n",
       "      <th>Software Engineer</th>\n",
       "      <td>5800.000000</td>\n",
       "      <td>48.000000</td>\n",
       "      <td>6.750000</td>\n",
       "      <td>6.500000</td>\n",
       "    </tr>\n",
       "    <tr>\n",
       "      <th>Teacher</th>\n",
       "      <td>5957.500000</td>\n",
       "      <td>45.625000</td>\n",
       "      <td>6.690000</td>\n",
       "      <td>6.975000</td>\n",
       "    </tr>\n",
       "    <tr>\n",
       "      <th>Engineer</th>\n",
       "      <td>5980.952381</td>\n",
       "      <td>51.857143</td>\n",
       "      <td>7.987302</td>\n",
       "      <td>8.412698</td>\n",
       "    </tr>\n",
       "    <tr>\n",
       "      <th>Salesperson</th>\n",
       "      <td>6000.000000</td>\n",
       "      <td>45.000000</td>\n",
       "      <td>6.403125</td>\n",
       "      <td>6.000000</td>\n",
       "    </tr>\n",
       "    <tr>\n",
       "      <th>Doctor</th>\n",
       "      <td>6808.450704</td>\n",
       "      <td>55.352113</td>\n",
       "      <td>6.970423</td>\n",
       "      <td>6.647887</td>\n",
       "    </tr>\n",
       "    <tr>\n",
       "      <th>Accountant</th>\n",
       "      <td>6881.081081</td>\n",
       "      <td>58.108108</td>\n",
       "      <td>7.113514</td>\n",
       "      <td>7.891892</td>\n",
       "    </tr>\n",
       "    <tr>\n",
       "      <th>Lawyer</th>\n",
       "      <td>7661.702128</td>\n",
       "      <td>70.425532</td>\n",
       "      <td>7.410638</td>\n",
       "      <td>7.893617</td>\n",
       "    </tr>\n",
       "    <tr>\n",
       "      <th>Nurse</th>\n",
       "      <td>8057.534247</td>\n",
       "      <td>78.589041</td>\n",
       "      <td>7.063014</td>\n",
       "      <td>7.369863</td>\n",
       "    </tr>\n",
       "  </tbody>\n",
       "</table>\n",
       "</div>"
      ],
      "text/plain": [
       "                      Daily Steps  Physical Activity Level  Sleep Duration  \\\n",
       "Occupation                                                                   \n",
       "Sales Representative  3000.000000                30.000000        5.900000   \n",
       "Scientist             5350.000000                41.000000        6.000000   \n",
       "Manager               5500.000000                55.000000        6.900000   \n",
       "Software Engineer     5800.000000                48.000000        6.750000   \n",
       "Teacher               5957.500000                45.625000        6.690000   \n",
       "Engineer              5980.952381                51.857143        7.987302   \n",
       "Salesperson           6000.000000                45.000000        6.403125   \n",
       "Doctor                6808.450704                55.352113        6.970423   \n",
       "Accountant            6881.081081                58.108108        7.113514   \n",
       "Lawyer                7661.702128                70.425532        7.410638   \n",
       "Nurse                 8057.534247                78.589041        7.063014   \n",
       "\n",
       "                      Quality of Sleep  \n",
       "Occupation                              \n",
       "Sales Representative          4.000000  \n",
       "Scientist                     5.000000  \n",
       "Manager                       7.000000  \n",
       "Software Engineer             6.500000  \n",
       "Teacher                       6.975000  \n",
       "Engineer                      8.412698  \n",
       "Salesperson                   6.000000  \n",
       "Doctor                        6.647887  \n",
       "Accountant                    7.891892  \n",
       "Lawyer                        7.893617  \n",
       "Nurse                         7.369863  "
      ]
     },
     "execution_count": 37,
     "metadata": {},
     "output_type": "execute_result"
    }
   ],
   "source": [
    "occ_steps = data.groupby(['Occupation'])['Daily Steps', 'Physical Activity Level', 'Sleep Duration', 'Quality of Sleep'].mean()\n",
    "occ_steps.sort_values(by='Daily Steps')"
   ]
  },
  {
   "cell_type": "code",
   "execution_count": null,
   "id": "f138a6de-71c9-4502-b2e3-a0a0e0014f15",
   "metadata": {},
   "outputs": [],
   "source": []
  }
 ],
 "metadata": {
  "kernelspec": {
   "display_name": "Python 3 (ipykernel)",
   "language": "python",
   "name": "python3"
  },
  "language_info": {
   "codemirror_mode": {
    "name": "ipython",
    "version": 3
   },
   "file_extension": ".py",
   "mimetype": "text/x-python",
   "name": "python",
   "nbconvert_exporter": "python",
   "pygments_lexer": "ipython3",
   "version": "3.11.4"
  }
 },
 "nbformat": 4,
 "nbformat_minor": 5
}
